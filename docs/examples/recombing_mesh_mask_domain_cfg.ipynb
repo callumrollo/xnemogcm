{
 "cells": [
  {
   "cell_type": "markdown",
   "id": "41aec3c0-ece5-4ba1-b47f-d7a6d67b0860",
   "metadata": {},
   "source": [
    "Start by importing the functions"
   ]
  },
  {
   "cell_type": "code",
   "execution_count": null,
   "id": "18606253-a4d5-4f6a-9da8-7dfd96b72bea",
   "metadata": {},
   "outputs": [],
   "source": [
    "from pathlib import Path\n",
    "\n",
    "from xnemogcm import open_domain_cfg, open_nemo_and_domain_cfg\n",
    "from xnemogcm import __version__ as xnemogcm_version"
   ]
  },
  {
   "cell_type": "code",
   "execution_count": null,
   "id": "84a7b456-0689-4cc7-b497-c41ea62ad477",
   "metadata": {},
   "outputs": [],
   "source": [
    "xnemogcm_version"
   ]
  },
  {
   "cell_type": "markdown",
   "id": "96f57a3d-4035-4c7b-acb5-5ae843eb87fd",
   "metadata": {},
   "source": [
    "By default nemo outputs a mesh_mask / domain_cfg file per computing processor, if the namelist parameter is set on .true.:\n",
    "\n",
    "* `ln_write_cfg = .true.` to output the domain_cfg if created analyticaly in the usrdef_zgr.F90 and usrdef_hgr.F90 files\n",
    "* `ln_meshmask = .true.` to output the mesh_mask files (that also contain the masks)\n",
    "\n",
    "While it is possible to recombine the files using the nemo fortran toolbox, xnemogcm can also recombine them easily.\n",
    "\n",
    "To illustrate this, we use a data folder from the test data:"
   ]
  },
  {
   "cell_type": "code",
   "execution_count": null,
   "id": "7e7eb827-e9ff-4652-8e11-c3ad01b1a65e",
   "metadata": {},
   "outputs": [],
   "source": [
    "datadir = Path('../../xnemogcm/test/data/4.2.0/mesh_mask_multi_files/')"
   ]
  },
  {
   "cell_type": "code",
   "execution_count": null,
   "id": "9874f77d-9755-4881-afaf-0fe72f61950e",
   "metadata": {},
   "outputs": [],
   "source": [
    "!ls ../../xnemogcm/test/data/4.2.0/mesh_mask_multi_files/"
   ]
  },
  {
   "cell_type": "code",
   "execution_count": null,
   "id": "193b27f6-8421-4cbd-be2e-228a8705a792",
   "metadata": {},
   "outputs": [],
   "source": [
    "domcfg = open_domain_cfg(datadir=datadir)\n",
    "domcfg"
   ]
  },
  {
   "cell_type": "markdown",
   "id": "475a6a89-9353-4c11-b49f-f0874b304546",
   "metadata": {},
   "source": [
    "We verify that the variables are the same than when opening a unique full mesh_mask file."
   ]
  },
  {
   "cell_type": "code",
   "execution_count": null,
   "id": "1143759e-b37e-4352-b05c-bad53db8a3b2",
   "metadata": {},
   "outputs": [],
   "source": [
    "domcfg_1_file = open_domain_cfg(datadir=Path('../../xnemogcm/test/data/4.2.0/mesh_mask_1_file/'), files=['mesh_mask.nc'])"
   ]
  },
  {
   "cell_type": "code",
   "execution_count": null,
   "id": "771405fe-0fef-4bce-a760-bd3d2463b831",
   "metadata": {},
   "outputs": [],
   "source": [
    "domcfg_1_file.equals(domcfg)"
   ]
  }
 ],
 "metadata": {
  "kernelspec": {
   "display_name": "Python 3 (ipykernel)",
   "language": "python",
   "name": "python3"
  },
  "language_info": {
   "codemirror_mode": {
    "name": "ipython",
    "version": 3
   },
   "file_extension": ".py",
   "mimetype": "text/x-python",
   "name": "python",
   "nbconvert_exporter": "python",
   "pygments_lexer": "ipython3",
   "version": "3.10.12"
  }
 },
 "nbformat": 4,
 "nbformat_minor": 5
}
